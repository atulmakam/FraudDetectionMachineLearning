{
 "cells": [
  {
   "cell_type": "code",
   "execution_count": 0,
   "metadata": {
    "colab": {},
    "colab_type": "code",
    "id": "QcwQ5hdHdllC"
   },
   "outputs": [],
   "source": [
    "!pip install vecstack"
   ]
  },
  {
   "cell_type": "code",
   "execution_count": 0,
   "metadata": {
    "colab": {},
    "colab_type": "code",
    "id": "eQqGDszCfMbu"
   },
   "outputs": [],
   "source": [
    "from vecstack import stacking\n",
    "import pandas as pd\n",
    "import numpy as np\n",
    "from sklearn.metrics import accuracy_score #works\n",
    "from sklearn.model_selection import train_test_split\n",
    "from sklearn.ensemble import RandomForestClassifier\n",
    "from sklearn.tree import DecisionTreeClassifier\n",
    "from sklearn.model_selection import GridSearchCV\n",
    "from sklearn.model_selection import RandomizedSearchCV\n",
    "from sklearn.model_selection import cross_val_score\n",
    "from sklearn.metrics import classification_report, confusion_matrix\n",
    "from sklearn.ensemble import GradientBoostingClassifier\n",
    "from sklearn.neural_network import MLPClassifier\n",
    "#from sklearn.ensemble import RandomForestClassifier\n",
    "from imblearn.over_sampling import SMOTE \n",
    "from sklearn.svm import SVC\n",
    "from collections import Counter #for Smote, \n",
    "\n",
    "import warnings\n",
    "warnings.filterwarnings(\"ignore\")\n"
   ]
  },
  {
   "cell_type": "code",
   "execution_count": 0,
   "metadata": {
    "colab": {},
    "colab_type": "code",
    "id": "1vyZX66TfUTt"
   },
   "outputs": [],
   "source": [
    "# To upload our datasets from our working directory we need to mount our drive contents to the colab environment. \n",
    "# For the code to do so you can search “mount” in code snippets or use the code given below. \n",
    "# Our entire drive contents are now mounted on colab at the location “/gdrive”.\n",
    "\n",
    "from google.colab import drive\n",
    "drive.mount('/gdrive')\n",
    "#Change current working directory to gdrive\n",
    "%cd /gdrive\n",
    "\n",
    "\n",
    "trainfile = r'/gdrive/My Drive/CIS508/Asg-3 Insurance Fraud Smote Stacking/IF_Train.csv'\n",
    "train_data = pd.read_csv(trainfile)\n",
    "\n",
    "testfile = r'/gdrive/My Drive/CIS508/Asg-3 Insurance Fraud Smote Stacking/IF_Test.csv'\n",
    "test_data = pd.read_csv(testfile)\n",
    "\n",
    "print(train_data.shape)\n",
    "print(train_data.head()) \n",
    "\n",
    "print(test_data.shape)\n",
    "print(test_data.head()) "
   ]
  },
  {
   "cell_type": "code",
   "execution_count": 0,
   "metadata": {
    "colab": {},
    "colab_type": "code",
    "id": "OUBE7LTNfccW"
   },
   "outputs": [],
   "source": [
    "categoricalFeatures = [\"MONTH\",\n",
    "\"DAYOFWEEK\",\n",
    "\"MAKE\",\n",
    "\"ACCIDENTAREA\",\n",
    "\"DAYOFWEEKCLAIMED\",\n",
    "\"MONTHCLAIMED\",\n",
    "\"SEX\",\n",
    "\"MARITALSTATUS\",\n",
    "\"FAULT\",\n",
    "\"POLICYTYPE\",\n",
    "\"VEHICLECATEGORY\",\n",
    "\"VEHICLEPRICE\",\n",
    "\"DAYS_POLICY_ACCIDENT\",\n",
    "\"DAYS_POLICY_CLAIM\",\n",
    "\"PASTNUMBEROFCLAIMS\",\n",
    "\"AGEOFVEHICLE\",\n",
    "\"AGEOFPOLICYHOLDER\",\n",
    "\"POLICEREPORTFILED\",\n",
    "\"WITNESSPRESENT\",\n",
    "\"AGENTTYPE\",\n",
    "\"NUMBEROFSUPPLIMENTS\",\n",
    "\"ADDRESSCHANGE_CLAIM\",\n",
    "\"NUMBEROFCARS\",\n",
    "\"YEAR\",\n",
    "\"BASEPOLICY\"]\n",
    "\n",
    "\n",
    "#Copy Train data excluding target\n",
    "trainData_Copy = train_data.iloc[:, :-1].copy()\n",
    "testData_Copy = test_data.iloc[:, :-1].copy()\n",
    "\n",
    "#Combine Train and test for one Hot Encoding\n",
    "combined_Data = pd.concat([trainData_Copy,testData_Copy], keys=[0,1])\n",
    "\n",
    "#Do one Hot encoding for categorical features\n",
    "combined_Data = pd.get_dummies(combined_Data,columns=categoricalFeatures)\n",
    "#print(combined_Data['FRAUDFOUND'])\n",
    "\n",
    "#Separate Train data and test data\n",
    "X_train = combined_Data.xs(0)\n",
    "X_test = combined_Data.xs(1)\n",
    "y_train=train_data[\"FRAUDFOUND\"]\n",
    "y_test=test_data[\"FRAUDFOUND\"]\n",
    "\n",
    "train_data[\"FRAUDFOUND\"]=train_data[\"FRAUDFOUND\"].map({\"Yes\":1,\"No\":0})\n",
    "test_data[\"FRAUDFOUND\"]=test_data[\"FRAUDFOUND\"].map({\"Yes\":1,\"No\":0})\n",
    "\n",
    "#Select just Target Column\n",
    "y_train = train_data.iloc[:, -1]\n",
    "y_test = test_data.iloc[:, -1]\n",
    "\n",
    "print(X_train.shape)\n",
    "print(X_test.head()) \n",
    "\n",
    "print(y_train.shape)\n",
    "print(y_test.head()) "
   ]
  },
  {
   "cell_type": "code",
   "execution_count": 0,
   "metadata": {
    "colab": {},
    "colab_type": "code",
    "id": "ouSzZTRsfnqO"
   },
   "outputs": [],
   "source": [
    "#CONSTRUCT DEFAULT DECISION TREE AND OBTAIN RESPECTIVE ACCURACY ==================\n",
    "clf = DecisionTreeClassifier()\n",
    "clf.fit(X_train, y_train)\n",
    "clf_predict=clf.predict(X_test)\n",
    "print(\"accuracy Score (training) for Decision TreE:{0:6f}\".format(clf.score(X_test,y_test)))\n",
    "print(\"Confusion Matrix for Decision Tree\")\n",
    "print(confusion_matrix(y_test,clf_predict))\n"
   ]
  },
  {
   "cell_type": "code",
   "execution_count": 0,
   "metadata": {
    "colab": {},
    "colab_type": "code",
    "id": "feUn7ef5fy4s"
   },
   "outputs": [],
   "source": [
    "#Hyperparameter tuning done for decision tree classifier\n",
    "parameters={'min_samples_split' : range(10,100,10),'max_depth': range(1,20,2)}\n",
    "clf_random = RandomizedSearchCV(clf,parameters,n_iter=15)\n",
    "clf_random.fit(X_train, y_train)\n",
    "grid_parm=clf_random.best_params_\n",
    "print(grid_parm)\n",
    "\n",
    "#Using the parameters obtained from HyperParameterTuning in the DecisionTreeClassifier \n",
    "clf = DecisionTreeClassifier(**grid_parm)\n",
    "clf.fit(X_train,y_train)\n",
    "clf_predict = clf.predict(X_test)\n",
    "\n",
    "#Obtain accuracy ,confusion matrix,classification report and AUC values for the result above.\n",
    "print(\"accuracy Score (training) after hypertuning for Decision Tree:{0:6f}\".format(clf.score(X_test,y_test)))\n",
    "print(\"Confusion Matrix after hypertuning for Decision Tree\")\n",
    "print(confusion_matrix(y_test,clf_predict))\n",
    "print(\"=== Classification Report ===\")\n",
    "print(classification_report(y_test,clf_predict))\n",
    "\n",
    "#run cross-validation on best hyperparameters, get auc score\n",
    "clf_cv_score = cross_val_score(clf, X_train, y_train, cv=10, scoring=\"roc_auc\")\n",
    "print(\"=== All AUC Scores ===\")\n",
    "print(clf_cv_score)\n",
    "print('\\n')\n",
    "print(\"=== Mean AUC Score ===\")\n",
    "print(\"Mean AUC Score - Decision Tree: \",clf_cv_score.mean())\n"
   ]
  },
  {
   "cell_type": "code",
   "execution_count": 0,
   "metadata": {
    "colab": {},
    "colab_type": "code",
    "id": "cuhgy0RcseYE"
   },
   "outputs": [],
   "source": [
    "#Random Forest =============================================================\n",
    "#Default mode\n",
    "rfc = RandomForestClassifier()\n",
    "rfc.fit(X_train, y_train)\n",
    "rfc_predict=rfc.predict(X_test)\n",
    "print(\"accuracy Score (training) for RandomForest:{0:6f}\".format(rfc.score(X_test,y_test)))\n",
    "print(\"Confusion Matrix for Random Forest:\")\n",
    "print(confusion_matrix(y_test,rfc_predict))\n",
    "\n",
    "\n"
   ]
  },
  {
   "cell_type": "code",
   "execution_count": 0,
   "metadata": {
    "colab": {},
    "colab_type": "code",
    "id": "oEApT8zrg9rb"
   },
   "outputs": [],
   "source": [
    "#Hyperparameter tuning for random forest\n",
    "parameters={ 'n_estimators': range(50,150,20),'min_samples_split' : range(10,100,10),'max_depth': range(1,20,2)}\n",
    "rfc_random = RandomizedSearchCV(rfc,parameters,n_iter=15)\n",
    "rfc_random.fit(X_train, y_train)\n",
    "grid_parm_rfc=rfc_random.best_params_\n",
    "print(grid_parm_rfc)\n",
    "\n",
    "#contruct random forest using the best parameters\n",
    "rfc= RandomForestClassifier(**grid_parm_rfc)\n",
    "rfc.fit(X_train,y_train)\n",
    "rfc_predict = rfc.predict(X_test)\n",
    "print(\"accuracy Score (training) after hypertuning for Random Forest:{0:6f}\".format(rfc.score(X_test,y_test)))\n",
    "print(\"Confusion Matrix after hypertuning for Random Forest:\")\n",
    "print(confusion_matrix(y_test,rfc_predict))\n",
    "print(\"=== Classification Report ===\")\n",
    "print(classification_report(y_test,rfc_predict))\n",
    "\n",
    "#run cross-validation on best parameters, get auc score\n",
    "rfc_cv_score = cross_val_score(rfc, X_train, y_train, cv=10, scoring=\"roc_auc\")\n",
    "print(\"=== All AUC Scores ===\")\n",
    "print(rfc_cv_score)\n",
    "print('\\n')\n",
    "print(\"=== Mean AUC Score ===\")\n",
    "print(\"Mean AUC Score - Random Forest: \",rfc_cv_score.mean())\n"
   ]
  },
  {
   "cell_type": "code",
   "execution_count": 0,
   "metadata": {
    "colab": {},
    "colab_type": "code",
    "id": "91eLALAohcl0"
   },
   "outputs": [],
   "source": [
    "#Gradient Boosting ============================================================\n",
    "search_grid={'n_estimators':[5,10,20, 30, 50],'learning_rate':[0.01,.1]}\n",
    "abc =GradientBoostingClassifier()\n",
    "abc.fit(X_train, y_train)\n",
    "abc_predict=abc.predict(X_test)\n",
    "print(\"accuracy Score (training) for Boosting:{0:6f}\".format(abc.score(X_test,y_test)))\n",
    "print(\"Confusion Matrix for boosting:\")\n",
    "print(confusion_matrix(y_test,abc_predict))\n",
    "\n",
    "#Randomized Search for hyperparameter tuning\n",
    "abc_random = RandomizedSearchCV(abc,search_grid,n_iter=15)\n",
    "abc_random.fit(X_train, y_train)\n",
    "grid_parm_abc=abc_random.best_params_\n",
    "print(grid_parm_abc)"
   ]
  },
  {
   "cell_type": "code",
   "execution_count": 0,
   "metadata": {
    "colab": {},
    "colab_type": "code",
    "id": "-Y4I06Ofht3T"
   },
   "outputs": [],
   "source": [
    "#Construct Gradient Boosting Trees using the best parameters\n",
    "abc= GradientBoostingClassifier(**grid_parm_abc)\n",
    "abc.fit(X_train,y_train)\n",
    "abc_predict = abc.predict(X_test)\n",
    "print(\"accuracy Score (training) after hypertuning for Boosting:{0:6f}\".format(abc.score(X_test,y_test)))\n",
    "print(\"Confusion Matrix after hypertuning for Boosting:\")\n",
    "print(confusion_matrix(y_test,abc_predict))\n",
    "print(\"=== Classification Report ===\")\n",
    "print(classification_report(y_test,abc_predict))\n",
    "\n",
    "#run cross-validation on best parameters, get auc score\n",
    "abc_cv_score = cross_val_score(abc, X_train, y_train, cv=10, scoring=\"roc_auc\")\n",
    "print(\"=== All AUC Scores ===\")\n",
    "print(abc_cv_score)\n",
    "print('\\n')\n",
    "print(\"=== Mean AUC Score ===\")\n",
    "print(\"Mean AUC Score - Boosting: \",abc_cv_score.mean())\n"
   ]
  },
  {
   "cell_type": "code",
   "execution_count": 0,
   "metadata": {
    "colab": {},
    "colab_type": "code",
    "id": "w9pdjPGfh2_T"
   },
   "outputs": [],
   "source": [
    "#SMOTE==============================================================================\n",
    "print(\"___________________________________________________________________\\nSMOTE\\n\")\n",
    "print('Original dataset shape %s' % Counter(y_train))\n",
    "sm = SMOTE(sampling_strategy='float', ratio=0.5)\n",
    "X_res, y_res = sm.fit_resample(X_train, y_train)\n",
    "print('Resampled dataset shape %s' % Counter(y_res))\n"
   ]
  },
  {
   "cell_type": "code",
   "execution_count": 0,
   "metadata": {
    "colab": {},
    "colab_type": "code",
    "id": "nW12HH9qh9rQ"
   },
   "outputs": [],
   "source": [
    "#STACKING MODELS =====================================================================\n",
    "print(\"___________________________________________________________________________________________\\nEnsemble Methods Predictions using GradientBoosting, RandomForest and Decision Tree Classifier\\n\")\n",
    "\n",
    "models = [ GradientBoostingClassifier(), RandomForestClassifier(), DecisionTreeClassifier() ]\n",
    "      \n",
    "S_Train, S_Test = stacking(models,                   \n",
    "                           X_res, y_res, X_test,   \n",
    "                           regression=False, \n",
    "     \n",
    "                           mode='oof_pred_bag', \n",
    "       \n",
    "                           needs_proba=False,\n",
    "         \n",
    "                           save_dir=None, \n",
    "            \n",
    "                           metric=accuracy_score, \n",
    "    \n",
    "                           n_folds=4, \n",
    "                 \n",
    "                           stratified=True,\n",
    "            \n",
    "                           shuffle=True,  \n",
    "            \n",
    "                           random_state=0,    \n",
    "         \n",
    "                           verbose=2)\n"
   ]
  },
  {
   "cell_type": "code",
   "execution_count": 0,
   "metadata": {
    "colab": {},
    "colab_type": "code",
    "id": "-kGCHGTaiGTb"
   },
   "outputs": [],
   "source": [
    "#STACKING - CONTRUCT A GRADIENT BOOSTING MODEL==============================\n",
    "model = GradientBoostingClassifier()\n",
    "    \n",
    "model = model.fit(S_Train, y_res)\n",
    "y_pred = model.predict(S_Test)\n",
    "print('Final prediction score for ensemble methods: [%.8f]' % accuracy_score(y_test, y_pred))\n",
    "print(\"Confusion Matrix after STACKING for Boosting:\")\n",
    "print(confusion_matrix(y_test,y_pred))\n",
    "print(\"=== Classification Report ===\")\n",
    "print(classification_report(y_test,y_pred))\n"
   ]
  },
  {
   "cell_type": "code",
   "execution_count": 0,
   "metadata": {
    "colab": {},
    "colab_type": "code",
    "id": "CKg4i4YTiPqi"
   },
   "outputs": [],
   "source": [
    "#Get Prediction Probability for the predicted class as a dataframe\n",
    "pred_Probability =pd.DataFrame(model.predict_proba(S_Test))\n",
    "\n",
    "pred_Probability.head()\n"
   ]
  },
  {
   "cell_type": "code",
   "execution_count": 0,
   "metadata": {
    "colab": {},
    "colab_type": "code",
    "id": "Q39c55RUiWq5"
   },
   "outputs": [],
   "source": []
  }
 ],
 "metadata": {
  "colab": {
   "collapsed_sections": [],
   "name": "Asg_3_InsuranceFraud_AR.ipynb",
   "provenance": []
  },
  "kernelspec": {
   "display_name": "Python 3",
   "language": "python",
   "name": "python3"
  },
  "language_info": {
   "codemirror_mode": {
    "name": "ipython",
    "version": 3
   },
   "file_extension": ".py",
   "mimetype": "text/x-python",
   "name": "python",
   "nbconvert_exporter": "python",
   "pygments_lexer": "ipython3",
   "version": "3.7.4"
  }
 },
 "nbformat": 4,
 "nbformat_minor": 1
}
